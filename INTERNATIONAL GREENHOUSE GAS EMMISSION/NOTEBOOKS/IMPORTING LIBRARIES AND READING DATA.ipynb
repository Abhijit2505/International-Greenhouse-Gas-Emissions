{
 "cells": [
  {
   "cell_type": "markdown",
   "metadata": {},
   "source": [
    "### Importing the required libraries"
   ]
  },
  {
   "cell_type": "code",
   "execution_count": 1,
   "metadata": {},
   "outputs": [],
   "source": [
    "import pandas as pd\n",
    "import numpy as np\n",
    "import matplotlib.pyplot as plt\n",
    "import seaborn as sns\n",
    "%matplotlib inline\n",
    "sns.set_palette(\"dark\")\n",
    "sns.set_style(\"white\")"
   ]
  },
  {
   "cell_type": "markdown",
   "metadata": {},
   "source": [
    "### Reading data from the CSV file"
   ]
  },
  {
   "cell_type": "code",
   "execution_count": 2,
   "metadata": {},
   "outputs": [],
   "source": [
    "emission_table = pd.read_csv(\"greenhouse_gas_inventory_data_data.csv\")"
   ]
  },
  {
   "cell_type": "code",
   "execution_count": 3,
   "metadata": {},
   "outputs": [
    {
     "data": {
      "text/html": [
       "<div>\n",
       "<style scoped>\n",
       "    .dataframe tbody tr th:only-of-type {\n",
       "        vertical-align: middle;\n",
       "    }\n",
       "\n",
       "    .dataframe tbody tr th {\n",
       "        vertical-align: top;\n",
       "    }\n",
       "\n",
       "    .dataframe thead th {\n",
       "        text-align: right;\n",
       "    }\n",
       "</style>\n",
       "<table border=\"1\" class=\"dataframe\">\n",
       "  <thead>\n",
       "    <tr style=\"text-align: right;\">\n",
       "      <th></th>\n",
       "      <th>country_or_area</th>\n",
       "      <th>year</th>\n",
       "      <th>value</th>\n",
       "      <th>category</th>\n",
       "    </tr>\n",
       "  </thead>\n",
       "  <tbody>\n",
       "    <tr>\n",
       "      <th>0</th>\n",
       "      <td>Australia</td>\n",
       "      <td>2014</td>\n",
       "      <td>393126.946994</td>\n",
       "      <td>carbon_dioxide_co2_emissions_without_land_use_...</td>\n",
       "    </tr>\n",
       "    <tr>\n",
       "      <th>1</th>\n",
       "      <td>Australia</td>\n",
       "      <td>2013</td>\n",
       "      <td>396913.936530</td>\n",
       "      <td>carbon_dioxide_co2_emissions_without_land_use_...</td>\n",
       "    </tr>\n",
       "    <tr>\n",
       "      <th>2</th>\n",
       "      <td>Australia</td>\n",
       "      <td>2012</td>\n",
       "      <td>406462.847704</td>\n",
       "      <td>carbon_dioxide_co2_emissions_without_land_use_...</td>\n",
       "    </tr>\n",
       "    <tr>\n",
       "      <th>3</th>\n",
       "      <td>Australia</td>\n",
       "      <td>2011</td>\n",
       "      <td>403705.528314</td>\n",
       "      <td>carbon_dioxide_co2_emissions_without_land_use_...</td>\n",
       "    </tr>\n",
       "    <tr>\n",
       "      <th>4</th>\n",
       "      <td>Australia</td>\n",
       "      <td>2010</td>\n",
       "      <td>406200.993184</td>\n",
       "      <td>carbon_dioxide_co2_emissions_without_land_use_...</td>\n",
       "    </tr>\n",
       "  </tbody>\n",
       "</table>\n",
       "</div>"
      ],
      "text/plain": [
       "  country_or_area  year          value  \\\n",
       "0       Australia  2014  393126.946994   \n",
       "1       Australia  2013  396913.936530   \n",
       "2       Australia  2012  406462.847704   \n",
       "3       Australia  2011  403705.528314   \n",
       "4       Australia  2010  406200.993184   \n",
       "\n",
       "                                            category  \n",
       "0  carbon_dioxide_co2_emissions_without_land_use_...  \n",
       "1  carbon_dioxide_co2_emissions_without_land_use_...  \n",
       "2  carbon_dioxide_co2_emissions_without_land_use_...  \n",
       "3  carbon_dioxide_co2_emissions_without_land_use_...  \n",
       "4  carbon_dioxide_co2_emissions_without_land_use_...  "
      ]
     },
     "execution_count": 3,
     "metadata": {},
     "output_type": "execute_result"
    }
   ],
   "source": [
    "emission_table.head()"
   ]
  },
  {
   "cell_type": "markdown",
   "metadata": {},
   "source": [
    "As we can see, the category data colum is having a large width that may bot be fit in pandas dataframe, hence using the colwidth for the better visibility of data across the category column."
   ]
  },
  {
   "cell_type": "code",
   "execution_count": 4,
   "metadata": {},
   "outputs": [],
   "source": [
    "pd.set_option('display.max_colwidth', -1)"
   ]
  },
  {
   "cell_type": "code",
   "execution_count": 5,
   "metadata": {},
   "outputs": [],
   "source": [
    "by_category  = emission_table.groupby(['category'])"
   ]
  },
  {
   "cell_type": "code",
   "execution_count": 6,
   "metadata": {},
   "outputs": [],
   "source": [
    "category_count = by_category.count()"
   ]
  },
  {
   "cell_type": "code",
   "execution_count": 7,
   "metadata": {},
   "outputs": [
    {
     "data": {
      "text/html": [
       "<div>\n",
       "<style scoped>\n",
       "    .dataframe tbody tr th:only-of-type {\n",
       "        vertical-align: middle;\n",
       "    }\n",
       "\n",
       "    .dataframe tbody tr th {\n",
       "        vertical-align: top;\n",
       "    }\n",
       "\n",
       "    .dataframe thead th {\n",
       "        text-align: right;\n",
       "    }\n",
       "</style>\n",
       "<table border=\"1\" class=\"dataframe\">\n",
       "  <thead>\n",
       "    <tr style=\"text-align: right;\">\n",
       "      <th></th>\n",
       "      <th>country_or_area</th>\n",
       "      <th>year</th>\n",
       "      <th>value</th>\n",
       "    </tr>\n",
       "    <tr>\n",
       "      <th>category</th>\n",
       "      <th></th>\n",
       "      <th></th>\n",
       "      <th></th>\n",
       "    </tr>\n",
       "  </thead>\n",
       "  <tbody>\n",
       "    <tr>\n",
       "      <th>carbon_dioxide_co2_emissions_without_land_use_land_use_change_and_forestry_lulucf_in_kilotonne_co2_equivalent</th>\n",
       "      <td>1074</td>\n",
       "      <td>1074</td>\n",
       "      <td>1074</td>\n",
       "    </tr>\n",
       "    <tr>\n",
       "      <th>greenhouse_gas_ghgs_emissions_including_indirect_co2_without_lulucf_in_kilotonne_co2_equivalent</th>\n",
       "      <td>949</td>\n",
       "      <td>949</td>\n",
       "      <td>949</td>\n",
       "    </tr>\n",
       "    <tr>\n",
       "      <th>greenhouse_gas_ghgs_emissions_without_land_use_land_use_change_and_forestry_lulucf_in_kilotonne_co2_equivalent</th>\n",
       "      <td>1074</td>\n",
       "      <td>1074</td>\n",
       "      <td>1074</td>\n",
       "    </tr>\n",
       "    <tr>\n",
       "      <th>hydrofluorocarbons_hfcs_emissions_in_kilotonne_co2_equivalent</th>\n",
       "      <td>975</td>\n",
       "      <td>975</td>\n",
       "      <td>975</td>\n",
       "    </tr>\n",
       "    <tr>\n",
       "      <th>methane_ch4_emissions_without_land_use_land_use_change_and_forestry_lulucf_in_kilotonne_co2_equivalent</th>\n",
       "      <td>1074</td>\n",
       "      <td>1074</td>\n",
       "      <td>1074</td>\n",
       "    </tr>\n",
       "    <tr>\n",
       "      <th>nitrogen_trifluoride_nf3_emissions_in_kilotonne_co2_equivalent</th>\n",
       "      <td>248</td>\n",
       "      <td>248</td>\n",
       "      <td>248</td>\n",
       "    </tr>\n",
       "    <tr>\n",
       "      <th>nitrous_oxide_n2o_emissions_without_land_use_land_use_change_and_forestry_lulucf_in_kilotonne_co2_equivalent</th>\n",
       "      <td>1074</td>\n",
       "      <td>1074</td>\n",
       "      <td>1074</td>\n",
       "    </tr>\n",
       "    <tr>\n",
       "      <th>perfluorocarbons_pfcs_emissions_in_kilotonne_co2_equivalent</th>\n",
       "      <td>831</td>\n",
       "      <td>831</td>\n",
       "      <td>831</td>\n",
       "    </tr>\n",
       "    <tr>\n",
       "      <th>sulphur_hexafluoride_sf6_emissions_in_kilotonne_co2_equivalent</th>\n",
       "      <td>1032</td>\n",
       "      <td>1032</td>\n",
       "      <td>1032</td>\n",
       "    </tr>\n",
       "    <tr>\n",
       "      <th>unspecified_mix_of_hydrofluorocarbons_hfcs_and_perfluorocarbons_pfcs_emissions_in_kilotonne_co2_equivalent</th>\n",
       "      <td>75</td>\n",
       "      <td>75</td>\n",
       "      <td>75</td>\n",
       "    </tr>\n",
       "  </tbody>\n",
       "</table>\n",
       "</div>"
      ],
      "text/plain": [
       "                                                                                                                country_or_area  \\\n",
       "category                                                                                                                          \n",
       "carbon_dioxide_co2_emissions_without_land_use_land_use_change_and_forestry_lulucf_in_kilotonne_co2_equivalent   1074              \n",
       "greenhouse_gas_ghgs_emissions_including_indirect_co2_without_lulucf_in_kilotonne_co2_equivalent                 949               \n",
       "greenhouse_gas_ghgs_emissions_without_land_use_land_use_change_and_forestry_lulucf_in_kilotonne_co2_equivalent  1074              \n",
       "hydrofluorocarbons_hfcs_emissions_in_kilotonne_co2_equivalent                                                   975               \n",
       "methane_ch4_emissions_without_land_use_land_use_change_and_forestry_lulucf_in_kilotonne_co2_equivalent          1074              \n",
       "nitrogen_trifluoride_nf3_emissions_in_kilotonne_co2_equivalent                                                  248               \n",
       "nitrous_oxide_n2o_emissions_without_land_use_land_use_change_and_forestry_lulucf_in_kilotonne_co2_equivalent    1074              \n",
       "perfluorocarbons_pfcs_emissions_in_kilotonne_co2_equivalent                                                     831               \n",
       "sulphur_hexafluoride_sf6_emissions_in_kilotonne_co2_equivalent                                                  1032              \n",
       "unspecified_mix_of_hydrofluorocarbons_hfcs_and_perfluorocarbons_pfcs_emissions_in_kilotonne_co2_equivalent      75                \n",
       "\n",
       "                                                                                                                year  \\\n",
       "category                                                                                                               \n",
       "carbon_dioxide_co2_emissions_without_land_use_land_use_change_and_forestry_lulucf_in_kilotonne_co2_equivalent   1074   \n",
       "greenhouse_gas_ghgs_emissions_including_indirect_co2_without_lulucf_in_kilotonne_co2_equivalent                 949    \n",
       "greenhouse_gas_ghgs_emissions_without_land_use_land_use_change_and_forestry_lulucf_in_kilotonne_co2_equivalent  1074   \n",
       "hydrofluorocarbons_hfcs_emissions_in_kilotonne_co2_equivalent                                                   975    \n",
       "methane_ch4_emissions_without_land_use_land_use_change_and_forestry_lulucf_in_kilotonne_co2_equivalent          1074   \n",
       "nitrogen_trifluoride_nf3_emissions_in_kilotonne_co2_equivalent                                                  248    \n",
       "nitrous_oxide_n2o_emissions_without_land_use_land_use_change_and_forestry_lulucf_in_kilotonne_co2_equivalent    1074   \n",
       "perfluorocarbons_pfcs_emissions_in_kilotonne_co2_equivalent                                                     831    \n",
       "sulphur_hexafluoride_sf6_emissions_in_kilotonne_co2_equivalent                                                  1032   \n",
       "unspecified_mix_of_hydrofluorocarbons_hfcs_and_perfluorocarbons_pfcs_emissions_in_kilotonne_co2_equivalent      75     \n",
       "\n",
       "                                                                                                                value  \n",
       "category                                                                                                               \n",
       "carbon_dioxide_co2_emissions_without_land_use_land_use_change_and_forestry_lulucf_in_kilotonne_co2_equivalent   1074   \n",
       "greenhouse_gas_ghgs_emissions_including_indirect_co2_without_lulucf_in_kilotonne_co2_equivalent                 949    \n",
       "greenhouse_gas_ghgs_emissions_without_land_use_land_use_change_and_forestry_lulucf_in_kilotonne_co2_equivalent  1074   \n",
       "hydrofluorocarbons_hfcs_emissions_in_kilotonne_co2_equivalent                                                   975    \n",
       "methane_ch4_emissions_without_land_use_land_use_change_and_forestry_lulucf_in_kilotonne_co2_equivalent          1074   \n",
       "nitrogen_trifluoride_nf3_emissions_in_kilotonne_co2_equivalent                                                  248    \n",
       "nitrous_oxide_n2o_emissions_without_land_use_land_use_change_and_forestry_lulucf_in_kilotonne_co2_equivalent    1074   \n",
       "perfluorocarbons_pfcs_emissions_in_kilotonne_co2_equivalent                                                     831    \n",
       "sulphur_hexafluoride_sf6_emissions_in_kilotonne_co2_equivalent                                                  1032   \n",
       "unspecified_mix_of_hydrofluorocarbons_hfcs_and_perfluorocarbons_pfcs_emissions_in_kilotonne_co2_equivalent      75     "
      ]
     },
     "execution_count": 7,
     "metadata": {},
     "output_type": "execute_result"
    }
   ],
   "source": [
    "category_count"
   ]
  },
  {
   "cell_type": "markdown",
   "metadata": {},
   "source": [
    "As we know we need to slice the category names in many parts to get the exact name of the Green House Gas. Here we can see a common thing in every category name =, i.e. *\"_in_kilotonne_co2_equivalent\"* at the end of every category. So my workflow for next few hours will comprise of the following things.\n",
    "\n",
    "  * Slicing the common part from each category name and updating that with a copy of the main dataframe.\n",
    "  * Slicing GHG and the other required hyperparameters like - indirect co2 or land usage forestry etc. "
   ]
  },
  {
   "cell_type": "markdown",
   "metadata": {},
   "source": [
    "### Breaking the problem in smaller part and preparing a small algo"
   ]
  },
  {
   "cell_type": "code",
   "execution_count": 8,
   "metadata": {},
   "outputs": [],
   "source": [
    "strp = category_count.index"
   ]
  },
  {
   "cell_type": "code",
   "execution_count": 9,
   "metadata": {},
   "outputs": [
    {
     "data": {
      "text/plain": [
       "'t'"
      ]
     },
     "execution_count": 9,
     "metadata": {},
     "output_type": "execute_result"
    }
   ],
   "source": [
    "io = strp[0]\n",
    "io[108]"
   ]
  },
  {
   "cell_type": "code",
   "execution_count": 10,
   "metadata": {},
   "outputs": [
    {
     "data": {
      "text/plain": [
       "'carbon_dioxide_co2_emissions_without_land_use_land_use_change_and_forestry_lulucf_in_kilotonne_co2_equivalent'"
      ]
     },
     "execution_count": 10,
     "metadata": {},
     "output_type": "execute_result"
    }
   ],
   "source": [
    "io"
   ]
  },
  {
   "cell_type": "code",
   "execution_count": 11,
   "metadata": {},
   "outputs": [
    {
     "data": {
      "text/plain": [
       "109"
      ]
     },
     "execution_count": 11,
     "metadata": {},
     "output_type": "execute_result"
    }
   ],
   "source": [
    "hdd = len(io)\n",
    "hdd"
   ]
  },
  {
   "cell_type": "code",
   "execution_count": 12,
   "metadata": {},
   "outputs": [
    {
     "data": {
      "text/plain": [
       "81"
      ]
     },
     "execution_count": 12,
     "metadata": {},
     "output_type": "execute_result"
    }
   ],
   "source": [
    "io.find(\"_in_kilotonne_co2_equivalent\",0,hdd)"
   ]
  },
  {
   "cell_type": "code",
   "execution_count": 13,
   "metadata": {},
   "outputs": [
    {
     "data": {
      "text/plain": [
       "'carbon_dioxide_co2_emissions_without_land_use_land_use_change_and_forestry_lulucf'"
      ]
     },
     "execution_count": 13,
     "metadata": {},
     "output_type": "execute_result"
    }
   ],
   "source": [
    "# Here we get success\n",
    "io[:81]"
   ]
  },
  {
   "cell_type": "markdown",
   "metadata": {},
   "source": [
    "**Conclusion for the Algorithm is to run a for loop and update each category type one by onne, then update the main category dataframe.**"
   ]
  },
  {
   "cell_type": "markdown",
   "metadata": {},
   "source": [
    "### Algorithm Begins"
   ]
  },
  {
   "cell_type": "code",
   "execution_count": 14,
   "metadata": {},
   "outputs": [],
   "source": [
    "new_category_index = []\n",
    "for string in strp:\n",
    "    p = len(string)\n",
    "    pos = string.find(\"_in_kilotonne_co2_equivalent\",0,p)\n",
    "    string = string[:pos]\n",
    "    new_category_index.append(string)"
   ]
  },
  {
   "cell_type": "code",
   "execution_count": 15,
   "metadata": {},
   "outputs": [
    {
     "data": {
      "text/plain": [
       "['carbon_dioxide_co2_emissions_without_land_use_land_use_change_and_forestry_lulucf',\n",
       " 'greenhouse_gas_ghgs_emissions_including_indirect_co2_without_lulucf',\n",
       " 'greenhouse_gas_ghgs_emissions_without_land_use_land_use_change_and_forestry_lulucf',\n",
       " 'hydrofluorocarbons_hfcs_emissions',\n",
       " 'methane_ch4_emissions_without_land_use_land_use_change_and_forestry_lulucf',\n",
       " 'nitrogen_trifluoride_nf3_emissions',\n",
       " 'nitrous_oxide_n2o_emissions_without_land_use_land_use_change_and_forestry_lulucf',\n",
       " 'perfluorocarbons_pfcs_emissions',\n",
       " 'sulphur_hexafluoride_sf6_emissions',\n",
       " 'unspecified_mix_of_hydrofluorocarbons_hfcs_and_perfluorocarbons_pfcs_emissions']"
      ]
     },
     "execution_count": 15,
     "metadata": {},
     "output_type": "execute_result"
    }
   ],
   "source": [
    "new_category_index"
   ]
  },
  {
   "cell_type": "code",
   "execution_count": 16,
   "metadata": {},
   "outputs": [],
   "source": [
    "new_category_index_reborn = []\n",
    "for lingo in new_category_index:\n",
    "    q = len(lingo)\n",
    "    pos = lingo.find(\"_without\",0,p)\n",
    "    lingo = lingo[:pos]\n",
    "    new_category_index_reborn.append(lingo)"
   ]
  },
  {
   "cell_type": "code",
   "execution_count": 17,
   "metadata": {},
   "outputs": [
    {
     "data": {
      "text/plain": [
       "['carbon_dioxide_co2_emissions',\n",
       " 'greenhouse_gas_ghgs_emissions_including_indirect_co2',\n",
       " 'greenhouse_gas_ghgs_emissions',\n",
       " 'hydrofluorocarbons_hfcs_emission',\n",
       " 'methane_ch4_emissions',\n",
       " 'nitrogen_trifluoride_nf3_emission',\n",
       " 'nitrous_oxide_n2o_emissions',\n",
       " 'perfluorocarbons_pfcs_emission',\n",
       " 'sulphur_hexafluoride_sf6_emission',\n",
       " 'unspecified_mix_of_hydrofluorocarbons_hfcs_and_perfluorocarbons_pfcs_emission']"
      ]
     },
     "execution_count": 17,
     "metadata": {},
     "output_type": "execute_result"
    }
   ],
   "source": [
    "new_category_index_reborn"
   ]
  },
  {
   "cell_type": "code",
   "execution_count": 18,
   "metadata": {},
   "outputs": [],
   "source": [
    "short_category = [\"co2\",\"ghg(indirect co2)\",\"ghg\",\"hfc\",\"ch4\",\"nf3\",\"n2o\",\"pfc\",\"sf6\",\"hfc+pfc\"]"
   ]
  },
  {
   "cell_type": "code",
   "execution_count": 19,
   "metadata": {},
   "outputs": [],
   "source": [
    "category_count[\"Shorted_category\"] = short_category"
   ]
  },
  {
   "cell_type": "code",
   "execution_count": 20,
   "metadata": {},
   "outputs": [
    {
     "data": {
      "text/html": [
       "<div>\n",
       "<style scoped>\n",
       "    .dataframe tbody tr th:only-of-type {\n",
       "        vertical-align: middle;\n",
       "    }\n",
       "\n",
       "    .dataframe tbody tr th {\n",
       "        vertical-align: top;\n",
       "    }\n",
       "\n",
       "    .dataframe thead th {\n",
       "        text-align: right;\n",
       "    }\n",
       "</style>\n",
       "<table border=\"1\" class=\"dataframe\">\n",
       "  <thead>\n",
       "    <tr style=\"text-align: right;\">\n",
       "      <th></th>\n",
       "      <th>country_or_area</th>\n",
       "      <th>year</th>\n",
       "      <th>value</th>\n",
       "      <th>Shorted_category</th>\n",
       "    </tr>\n",
       "    <tr>\n",
       "      <th>category</th>\n",
       "      <th></th>\n",
       "      <th></th>\n",
       "      <th></th>\n",
       "      <th></th>\n",
       "    </tr>\n",
       "  </thead>\n",
       "  <tbody>\n",
       "    <tr>\n",
       "      <th>carbon_dioxide_co2_emissions_without_land_use_land_use_change_and_forestry_lulucf_in_kilotonne_co2_equivalent</th>\n",
       "      <td>1074</td>\n",
       "      <td>1074</td>\n",
       "      <td>1074</td>\n",
       "      <td>co2</td>\n",
       "    </tr>\n",
       "    <tr>\n",
       "      <th>greenhouse_gas_ghgs_emissions_including_indirect_co2_without_lulucf_in_kilotonne_co2_equivalent</th>\n",
       "      <td>949</td>\n",
       "      <td>949</td>\n",
       "      <td>949</td>\n",
       "      <td>ghg(indirect co2)</td>\n",
       "    </tr>\n",
       "    <tr>\n",
       "      <th>greenhouse_gas_ghgs_emissions_without_land_use_land_use_change_and_forestry_lulucf_in_kilotonne_co2_equivalent</th>\n",
       "      <td>1074</td>\n",
       "      <td>1074</td>\n",
       "      <td>1074</td>\n",
       "      <td>ghg</td>\n",
       "    </tr>\n",
       "    <tr>\n",
       "      <th>hydrofluorocarbons_hfcs_emissions_in_kilotonne_co2_equivalent</th>\n",
       "      <td>975</td>\n",
       "      <td>975</td>\n",
       "      <td>975</td>\n",
       "      <td>hfc</td>\n",
       "    </tr>\n",
       "    <tr>\n",
       "      <th>methane_ch4_emissions_without_land_use_land_use_change_and_forestry_lulucf_in_kilotonne_co2_equivalent</th>\n",
       "      <td>1074</td>\n",
       "      <td>1074</td>\n",
       "      <td>1074</td>\n",
       "      <td>ch4</td>\n",
       "    </tr>\n",
       "    <tr>\n",
       "      <th>nitrogen_trifluoride_nf3_emissions_in_kilotonne_co2_equivalent</th>\n",
       "      <td>248</td>\n",
       "      <td>248</td>\n",
       "      <td>248</td>\n",
       "      <td>nf3</td>\n",
       "    </tr>\n",
       "    <tr>\n",
       "      <th>nitrous_oxide_n2o_emissions_without_land_use_land_use_change_and_forestry_lulucf_in_kilotonne_co2_equivalent</th>\n",
       "      <td>1074</td>\n",
       "      <td>1074</td>\n",
       "      <td>1074</td>\n",
       "      <td>n2o</td>\n",
       "    </tr>\n",
       "    <tr>\n",
       "      <th>perfluorocarbons_pfcs_emissions_in_kilotonne_co2_equivalent</th>\n",
       "      <td>831</td>\n",
       "      <td>831</td>\n",
       "      <td>831</td>\n",
       "      <td>pfc</td>\n",
       "    </tr>\n",
       "    <tr>\n",
       "      <th>sulphur_hexafluoride_sf6_emissions_in_kilotonne_co2_equivalent</th>\n",
       "      <td>1032</td>\n",
       "      <td>1032</td>\n",
       "      <td>1032</td>\n",
       "      <td>sf6</td>\n",
       "    </tr>\n",
       "    <tr>\n",
       "      <th>unspecified_mix_of_hydrofluorocarbons_hfcs_and_perfluorocarbons_pfcs_emissions_in_kilotonne_co2_equivalent</th>\n",
       "      <td>75</td>\n",
       "      <td>75</td>\n",
       "      <td>75</td>\n",
       "      <td>hfc+pfc</td>\n",
       "    </tr>\n",
       "  </tbody>\n",
       "</table>\n",
       "</div>"
      ],
      "text/plain": [
       "                                                                                                                country_or_area  \\\n",
       "category                                                                                                                          \n",
       "carbon_dioxide_co2_emissions_without_land_use_land_use_change_and_forestry_lulucf_in_kilotonne_co2_equivalent   1074              \n",
       "greenhouse_gas_ghgs_emissions_including_indirect_co2_without_lulucf_in_kilotonne_co2_equivalent                 949               \n",
       "greenhouse_gas_ghgs_emissions_without_land_use_land_use_change_and_forestry_lulucf_in_kilotonne_co2_equivalent  1074              \n",
       "hydrofluorocarbons_hfcs_emissions_in_kilotonne_co2_equivalent                                                   975               \n",
       "methane_ch4_emissions_without_land_use_land_use_change_and_forestry_lulucf_in_kilotonne_co2_equivalent          1074              \n",
       "nitrogen_trifluoride_nf3_emissions_in_kilotonne_co2_equivalent                                                  248               \n",
       "nitrous_oxide_n2o_emissions_without_land_use_land_use_change_and_forestry_lulucf_in_kilotonne_co2_equivalent    1074              \n",
       "perfluorocarbons_pfcs_emissions_in_kilotonne_co2_equivalent                                                     831               \n",
       "sulphur_hexafluoride_sf6_emissions_in_kilotonne_co2_equivalent                                                  1032              \n",
       "unspecified_mix_of_hydrofluorocarbons_hfcs_and_perfluorocarbons_pfcs_emissions_in_kilotonne_co2_equivalent      75                \n",
       "\n",
       "                                                                                                                year  \\\n",
       "category                                                                                                               \n",
       "carbon_dioxide_co2_emissions_without_land_use_land_use_change_and_forestry_lulucf_in_kilotonne_co2_equivalent   1074   \n",
       "greenhouse_gas_ghgs_emissions_including_indirect_co2_without_lulucf_in_kilotonne_co2_equivalent                 949    \n",
       "greenhouse_gas_ghgs_emissions_without_land_use_land_use_change_and_forestry_lulucf_in_kilotonne_co2_equivalent  1074   \n",
       "hydrofluorocarbons_hfcs_emissions_in_kilotonne_co2_equivalent                                                   975    \n",
       "methane_ch4_emissions_without_land_use_land_use_change_and_forestry_lulucf_in_kilotonne_co2_equivalent          1074   \n",
       "nitrogen_trifluoride_nf3_emissions_in_kilotonne_co2_equivalent                                                  248    \n",
       "nitrous_oxide_n2o_emissions_without_land_use_land_use_change_and_forestry_lulucf_in_kilotonne_co2_equivalent    1074   \n",
       "perfluorocarbons_pfcs_emissions_in_kilotonne_co2_equivalent                                                     831    \n",
       "sulphur_hexafluoride_sf6_emissions_in_kilotonne_co2_equivalent                                                  1032   \n",
       "unspecified_mix_of_hydrofluorocarbons_hfcs_and_perfluorocarbons_pfcs_emissions_in_kilotonne_co2_equivalent      75     \n",
       "\n",
       "                                                                                                                value  \\\n",
       "category                                                                                                                \n",
       "carbon_dioxide_co2_emissions_without_land_use_land_use_change_and_forestry_lulucf_in_kilotonne_co2_equivalent   1074    \n",
       "greenhouse_gas_ghgs_emissions_including_indirect_co2_without_lulucf_in_kilotonne_co2_equivalent                 949     \n",
       "greenhouse_gas_ghgs_emissions_without_land_use_land_use_change_and_forestry_lulucf_in_kilotonne_co2_equivalent  1074    \n",
       "hydrofluorocarbons_hfcs_emissions_in_kilotonne_co2_equivalent                                                   975     \n",
       "methane_ch4_emissions_without_land_use_land_use_change_and_forestry_lulucf_in_kilotonne_co2_equivalent          1074    \n",
       "nitrogen_trifluoride_nf3_emissions_in_kilotonne_co2_equivalent                                                  248     \n",
       "nitrous_oxide_n2o_emissions_without_land_use_land_use_change_and_forestry_lulucf_in_kilotonne_co2_equivalent    1074    \n",
       "perfluorocarbons_pfcs_emissions_in_kilotonne_co2_equivalent                                                     831     \n",
       "sulphur_hexafluoride_sf6_emissions_in_kilotonne_co2_equivalent                                                  1032    \n",
       "unspecified_mix_of_hydrofluorocarbons_hfcs_and_perfluorocarbons_pfcs_emissions_in_kilotonne_co2_equivalent      75      \n",
       "\n",
       "                                                                                                                 Shorted_category  \n",
       "category                                                                                                                           \n",
       "carbon_dioxide_co2_emissions_without_land_use_land_use_change_and_forestry_lulucf_in_kilotonne_co2_equivalent   co2                \n",
       "greenhouse_gas_ghgs_emissions_including_indirect_co2_without_lulucf_in_kilotonne_co2_equivalent                 ghg(indirect co2)  \n",
       "greenhouse_gas_ghgs_emissions_without_land_use_land_use_change_and_forestry_lulucf_in_kilotonne_co2_equivalent  ghg                \n",
       "hydrofluorocarbons_hfcs_emissions_in_kilotonne_co2_equivalent                                                   hfc                \n",
       "methane_ch4_emissions_without_land_use_land_use_change_and_forestry_lulucf_in_kilotonne_co2_equivalent          ch4                \n",
       "nitrogen_trifluoride_nf3_emissions_in_kilotonne_co2_equivalent                                                  nf3                \n",
       "nitrous_oxide_n2o_emissions_without_land_use_land_use_change_and_forestry_lulucf_in_kilotonne_co2_equivalent    n2o                \n",
       "perfluorocarbons_pfcs_emissions_in_kilotonne_co2_equivalent                                                     pfc                \n",
       "sulphur_hexafluoride_sf6_emissions_in_kilotonne_co2_equivalent                                                  sf6                \n",
       "unspecified_mix_of_hydrofluorocarbons_hfcs_and_perfluorocarbons_pfcs_emissions_in_kilotonne_co2_equivalent      hfc+pfc            "
      ]
     },
     "execution_count": 20,
     "metadata": {},
     "output_type": "execute_result"
    }
   ],
   "source": [
    "category_count"
   ]
  },
  {
   "cell_type": "markdown",
   "metadata": {},
   "source": [
    "### Cleaning the data for better comprehension"
   ]
  },
  {
   "cell_type": "markdown",
   "metadata": {},
   "source": [
    "Replacing the category colum by the following:-\n",
    "* carbon_dioxide_co2_emissions_without_land_use_land_use_change_and_forestry_lulucf_in_kilotonne_co2_equivalent\t= **CO2**\n",
    "* greenhouse_gas_ghgs_emissions_including_indirect_co2_without_lulucf_in_kilotonne_co2_equivalent = **GHG(Indirect CO2)**\n",
    "* greenhouse_gas_ghgs_emissions_without_land_use_land_use_change_and_forestry_lulucf_in_kilotonne_co2_equivalent = **GHG**\n",
    "* hydrofluorocarbons_hfcs_emissions_in_kilotonne_co2_equivalent = **HFC**\n",
    "* methane_ch4_emissions_without_land_use_land_use_change_and_forestry_lulucf_in_kilotonne_co2_equivalent = **CH4**\n",
    "* nitrogen_trifluoride_nf3_emissions_in_kilotonne_co2_equivalent = **NF3**\n",
    "* nitrous_oxide_n2o_emissions_without_land_use_land_use_change_and_forestry_lulucf_in_kilotonne_co2_equivalent = **N2O**\n",
    "* perfluorocarbons_pfcs_emissions_in_kilotonne_co2_equivalent = **PFC**\n",
    "* sulphur_hexafluoride_sf6_emissions_in_kilotonne_co2_equivalent = **SF6**\n",
    "* unspecified_mix_of_hydrofluorocarbons_hfcs_and_perfluorocarbons_pfcs_emissions_in_kilotonne_co2_equivalent = **HFC+PFC**"
   ]
  },
  {
   "cell_type": "code",
   "execution_count": 21,
   "metadata": {},
   "outputs": [],
   "source": [
    "trying_emission = emission_table"
   ]
  },
  {
   "cell_type": "code",
   "execution_count": 22,
   "metadata": {},
   "outputs": [],
   "source": [
    "replaced_emission = trying_emission.replace(to_replace=[\"carbon_dioxide_co2_emissions_without_land_use_land_use_change_and_\"\n",
    "                                     \"forestry_lulucf_in_kilotonne_co2_equivalent\",\"greenhouse_gas_ghgs_emissions_including_indirect_co2\"\n",
    "                                    \"_without_lulucf_in_kilotonne_co2_equivalent\",\"greenhouse_gas_ghgs_emissions_without_land_use_land_use\"\n",
    "                                    \"_change_and_forestry_lulucf_in_kilotonne_co2_equivalent\",\"hydrofluorocarbons_hfcs_emissions_in_kilotonne_co2_equivalent\",\n",
    "                                    \"methane_ch4_emissions_without_land_use_land_use_change\"\n",
    "                                    \"_and_forestry_lulucf_in_kilotonne_co2_equivalent\",\"nitrogen_trifluoride_nf3_emissions_in_kilotonne_co2_equivalent\",\n",
    "                                    \"nitrous_oxide_n2o_emissions_without_land_use_land_use_change\" \n",
    "                                    \"_and_forestry_lulucf_in_kilotonne_co2_equivalent\",\"perfluorocarbons_pfcs_emissions_in_kilotonne_co2_equivalent\",\n",
    "                                    \"sulphur_hexafluoride_sf6_emissions_in_kilotonne_co2_equivalent\",\n",
    "                                    \"unspecified_mix_of_hydrofluorocarbons_hfcs_and_perfluorocarbons\"\n",
    "                                    \"_pfcs_emissions_in_kilotonne_co2_equivalent\"], value = [\"CO2\",\"GHG(Indirect CO2)\",\"GHG\",\"HFC\",\"CH4\",\"NF3\",\"N2O\",\"PFC\",\"SF6\",\"HFC+PFC\"])\n"
   ]
  },
  {
   "cell_type": "code",
   "execution_count": 23,
   "metadata": {},
   "outputs": [],
   "source": [
    "# replacing and changing the data and it's index for better EDA(Exploratory Data Analysis)\n",
    "l = replaced_emission.groupby([\"category\"],as_index=False)"
   ]
  },
  {
   "cell_type": "code",
   "execution_count": 24,
   "metadata": {},
   "outputs": [
    {
     "data": {
      "text/html": [
       "<div>\n",
       "<style scoped>\n",
       "    .dataframe tbody tr th:only-of-type {\n",
       "        vertical-align: middle;\n",
       "    }\n",
       "\n",
       "    .dataframe tbody tr th {\n",
       "        vertical-align: top;\n",
       "    }\n",
       "\n",
       "    .dataframe thead th {\n",
       "        text-align: right;\n",
       "    }\n",
       "</style>\n",
       "<table border=\"1\" class=\"dataframe\">\n",
       "  <thead>\n",
       "    <tr style=\"text-align: right;\">\n",
       "      <th></th>\n",
       "      <th>category</th>\n",
       "      <th>country_or_area</th>\n",
       "      <th>year</th>\n",
       "      <th>value</th>\n",
       "    </tr>\n",
       "  </thead>\n",
       "  <tbody>\n",
       "    <tr>\n",
       "      <th>0</th>\n",
       "      <td>CH4</td>\n",
       "      <td>1074</td>\n",
       "      <td>1074</td>\n",
       "      <td>1074</td>\n",
       "    </tr>\n",
       "    <tr>\n",
       "      <th>1</th>\n",
       "      <td>CO2</td>\n",
       "      <td>1074</td>\n",
       "      <td>1074</td>\n",
       "      <td>1074</td>\n",
       "    </tr>\n",
       "    <tr>\n",
       "      <th>2</th>\n",
       "      <td>GHG</td>\n",
       "      <td>1074</td>\n",
       "      <td>1074</td>\n",
       "      <td>1074</td>\n",
       "    </tr>\n",
       "    <tr>\n",
       "      <th>3</th>\n",
       "      <td>GHG(Indirect CO2)</td>\n",
       "      <td>949</td>\n",
       "      <td>949</td>\n",
       "      <td>949</td>\n",
       "    </tr>\n",
       "    <tr>\n",
       "      <th>4</th>\n",
       "      <td>HFC</td>\n",
       "      <td>975</td>\n",
       "      <td>975</td>\n",
       "      <td>975</td>\n",
       "    </tr>\n",
       "    <tr>\n",
       "      <th>5</th>\n",
       "      <td>HFC+PFC</td>\n",
       "      <td>75</td>\n",
       "      <td>75</td>\n",
       "      <td>75</td>\n",
       "    </tr>\n",
       "    <tr>\n",
       "      <th>6</th>\n",
       "      <td>N2O</td>\n",
       "      <td>1074</td>\n",
       "      <td>1074</td>\n",
       "      <td>1074</td>\n",
       "    </tr>\n",
       "    <tr>\n",
       "      <th>7</th>\n",
       "      <td>NF3</td>\n",
       "      <td>248</td>\n",
       "      <td>248</td>\n",
       "      <td>248</td>\n",
       "    </tr>\n",
       "    <tr>\n",
       "      <th>8</th>\n",
       "      <td>PFC</td>\n",
       "      <td>831</td>\n",
       "      <td>831</td>\n",
       "      <td>831</td>\n",
       "    </tr>\n",
       "    <tr>\n",
       "      <th>9</th>\n",
       "      <td>SF6</td>\n",
       "      <td>1032</td>\n",
       "      <td>1032</td>\n",
       "      <td>1032</td>\n",
       "    </tr>\n",
       "  </tbody>\n",
       "</table>\n",
       "</div>"
      ],
      "text/plain": [
       "            category  country_or_area  year  value\n",
       "0  CH4                1074             1074  1074 \n",
       "1  CO2                1074             1074  1074 \n",
       "2  GHG                1074             1074  1074 \n",
       "3  GHG(Indirect CO2)  949              949   949  \n",
       "4  HFC                975              975   975  \n",
       "5  HFC+PFC            75               75    75   \n",
       "6  N2O                1074             1074  1074 \n",
       "7  NF3                248              248   248  \n",
       "8  PFC                831              831   831  \n",
       "9  SF6                1032             1032  1032 "
      ]
     },
     "execution_count": 24,
     "metadata": {},
     "output_type": "execute_result"
    }
   ],
   "source": [
    "l.count()"
   ]
  },
  {
   "cell_type": "markdown",
   "metadata": {},
   "source": [
    "### Exploratory Data Analysis"
   ]
  },
  {
   "cell_type": "code",
   "execution_count": 25,
   "metadata": {},
   "outputs": [
    {
     "data": {
      "image/png": "[encoded data removed]",
      "text/plain": [
       "<Figure size 1080x504 with 1 Axes>"
      ]
     },
     "metadata": {
      "needs_background": "light"
     },
     "output_type": "display_data"
    }
   ],
   "source": [
    "plt.figure(figsize=(15,7))\n",
    "ax = sns.countplot(replaced_emission[\"category\"])\n",
    "ax.set_xticklabels(ax.get_xticklabels(),rotation=40, ha=\"right\", fontsize=14)\n",
    "plt.tight_layout()\n",
    "plt.xlabel(\"Gas category\",fontsize=16)\n",
    "plt.ylabel(\"Count\",fontsize=16)\n",
    "plt.rcParams[\"figure.figsize\"] = [15, 10]\n",
    "plt.show()"
   ]
  },
  {
   "cell_type": "markdown",
   "metadata": {},
   "source": [
    "**Conclusion -1**:\n",
    "    The data iteself is very irregular interms of distribution and labels. *GHG(Indirect CO2)* is a part of CO2 data. Hence *CO2* is the most occuring Green House Gas. Also the *HFC*,*PFC* anf *HFC+PFC* data can be overlapped, but the exact proportion is unknown. *NF3* turns out to be occured the least. Also *GHG* has a undefined label, we can't say exactly how much proportion of other gases are present or some of them are not present while labeling the data."
   ]
  },
  {
   "cell_type": "markdown",
   "metadata": {},
   "source": [
    "### Calculating the Total amount of gases emitted "
   ]
  },
  {
   "cell_type": "code",
   "execution_count": 26,
   "metadata": {},
   "outputs": [],
   "source": [
    "loct = replaced_emission.groupby(['category'])['value'].sum()"
   ]
  },
  {
   "cell_type": "code",
   "execution_count": 27,
   "metadata": {},
   "outputs": [],
   "source": [
    "replaced_emission['Total Emitted Gas'] = replaced_emission['value'].groupby(replaced_emission['category']).transform('sum')"
   ]
  },
  {
   "cell_type": "code",
   "execution_count": 28,
   "metadata": {},
   "outputs": [
    {
     "data": {
      "text/plain": [
       "array([7.87271139e+07, 4.64020441e+08, 5.85188513e+08, 5.57452664e+08,\n",
       "       7.27289194e+06, 2.44839942e+05, 3.21367507e+07, 2.81398722e+04,\n",
       "       1.51517345e+06, 1.24316251e+06])"
      ]
     },
     "execution_count": 28,
     "metadata": {},
     "output_type": "execute_result"
    }
   ],
   "source": [
    "loct.values"
   ]
  },
  {
   "cell_type": "code",
   "execution_count": 29,
   "metadata": {},
   "outputs": [],
   "source": [
    "new_dataframe_emission = pd.DataFrame(loct.index)"
   ]
  },
  {
   "cell_type": "code",
   "execution_count": 30,
   "metadata": {},
   "outputs": [],
   "source": [
    "new_dataframe_emission[\"Total Amount Emitted(In Kilotones)\"] = loct.values"
   ]
  },
  {
   "cell_type": "markdown",
   "metadata": {},
   "source": [
    "### Sorting the dataframe to know the amount"
   ]
  },
  {
   "cell_type": "code",
   "execution_count": 31,
   "metadata": {},
   "outputs": [],
   "source": [
    "new_dataframe_emission.sort_values(by=['Total Amount Emitted(In Kilotones)'], inplace=True,ascending=False)"
   ]
  },
  {
   "cell_type": "code",
   "execution_count": 32,
   "metadata": {},
   "outputs": [
    {
     "data": {
      "text/html": [
       "<div>\n",
       "<style scoped>\n",
       "    .dataframe tbody tr th:only-of-type {\n",
       "        vertical-align: middle;\n",
       "    }\n",
       "\n",
       "    .dataframe tbody tr th {\n",
       "        vertical-align: top;\n",
       "    }\n",
       "\n",
       "    .dataframe thead th {\n",
       "        text-align: right;\n",
       "    }\n",
       "</style>\n",
       "<table border=\"1\" class=\"dataframe\">\n",
       "  <thead>\n",
       "    <tr style=\"text-align: right;\">\n",
       "      <th></th>\n",
       "      <th>category</th>\n",
       "      <th>Total Amount Emitted(In Kilotones)</th>\n",
       "    </tr>\n",
       "  </thead>\n",
       "  <tbody>\n",
       "    <tr>\n",
       "      <th>2</th>\n",
       "      <td>GHG</td>\n",
       "      <td>5.851885e+08</td>\n",
       "    </tr>\n",
       "    <tr>\n",
       "      <th>3</th>\n",
       "      <td>GHG(Indirect CO2)</td>\n",
       "      <td>5.574527e+08</td>\n",
       "    </tr>\n",
       "    <tr>\n",
       "      <th>1</th>\n",
       "      <td>CO2</td>\n",
       "      <td>4.640204e+08</td>\n",
       "    </tr>\n",
       "    <tr>\n",
       "      <th>0</th>\n",
       "      <td>CH4</td>\n",
       "      <td>7.872711e+07</td>\n",
       "    </tr>\n",
       "    <tr>\n",
       "      <th>6</th>\n",
       "      <td>N2O</td>\n",
       "      <td>3.213675e+07</td>\n",
       "    </tr>\n",
       "    <tr>\n",
       "      <th>4</th>\n",
       "      <td>HFC</td>\n",
       "      <td>7.272892e+06</td>\n",
       "    </tr>\n",
       "    <tr>\n",
       "      <th>8</th>\n",
       "      <td>PFC</td>\n",
       "      <td>1.515173e+06</td>\n",
       "    </tr>\n",
       "    <tr>\n",
       "      <th>9</th>\n",
       "      <td>SF6</td>\n",
       "      <td>1.243163e+06</td>\n",
       "    </tr>\n",
       "    <tr>\n",
       "      <th>5</th>\n",
       "      <td>HFC+PFC</td>\n",
       "      <td>2.448399e+05</td>\n",
       "    </tr>\n",
       "    <tr>\n",
       "      <th>7</th>\n",
       "      <td>NF3</td>\n",
       "      <td>2.813987e+04</td>\n",
       "    </tr>\n",
       "  </tbody>\n",
       "</table>\n",
       "</div>"
      ],
      "text/plain": [
       "            category  Total Amount Emitted(In Kilotones)\n",
       "2  GHG                5.851885e+08                      \n",
       "3  GHG(Indirect CO2)  5.574527e+08                      \n",
       "1  CO2                4.640204e+08                      \n",
       "0  CH4                7.872711e+07                      \n",
       "6  N2O                3.213675e+07                      \n",
       "4  HFC                7.272892e+06                      \n",
       "8  PFC                1.515173e+06                      \n",
       "9  SF6                1.243163e+06                      \n",
       "5  HFC+PFC            2.448399e+05                      \n",
       "7  NF3                2.813987e+04                      "
      ]
     },
     "execution_count": 32,
     "metadata": {},
     "output_type": "execute_result"
    }
   ],
   "source": [
    "new_dataframe_emission"
   ]
  },
  {
   "cell_type": "markdown",
   "metadata": {},
   "source": [
    "**Conclusion - 2:**\n",
    "    Yet another problem, *GHG* category has the maximum emitted amount, *CO2* and *indirect CO2*, sums up to make *CO2* maximum. *NF3* has the least emitted amount. "
   ]
  },
  {
   "cell_type": "markdown",
   "metadata": {},
   "source": [
    "*Lets try another approach*"
   ]
  },
  {
   "cell_type": "code",
   "execution_count": 33,
   "metadata": {},
   "outputs": [
    {
     "data": {
      "text/html": [
       "<div>\n",
       "<style scoped>\n",
       "    .dataframe tbody tr th:only-of-type {\n",
       "        vertical-align: middle;\n",
       "    }\n",
       "\n",
       "    .dataframe tbody tr th {\n",
       "        vertical-align: top;\n",
       "    }\n",
       "\n",
       "    .dataframe thead th {\n",
       "        text-align: right;\n",
       "    }\n",
       "</style>\n",
       "<table border=\"1\" class=\"dataframe\">\n",
       "  <thead>\n",
       "    <tr style=\"text-align: right;\">\n",
       "      <th></th>\n",
       "      <th>country_or_area</th>\n",
       "      <th>year</th>\n",
       "      <th>value</th>\n",
       "      <th>category</th>\n",
       "      <th>Total Emitted Gas</th>\n",
       "    </tr>\n",
       "  </thead>\n",
       "  <tbody>\n",
       "    <tr>\n",
       "      <th>0</th>\n",
       "      <td>Australia</td>\n",
       "      <td>2014</td>\n",
       "      <td>393126.946994</td>\n",
       "      <td>CO2</td>\n",
       "      <td>4.640204e+08</td>\n",
       "    </tr>\n",
       "    <tr>\n",
       "      <th>1</th>\n",
       "      <td>Australia</td>\n",
       "      <td>2013</td>\n",
       "      <td>396913.936530</td>\n",
       "      <td>CO2</td>\n",
       "      <td>4.640204e+08</td>\n",
       "    </tr>\n",
       "    <tr>\n",
       "      <th>2</th>\n",
       "      <td>Australia</td>\n",
       "      <td>2012</td>\n",
       "      <td>406462.847704</td>\n",
       "      <td>CO2</td>\n",
       "      <td>4.640204e+08</td>\n",
       "    </tr>\n",
       "    <tr>\n",
       "      <th>3</th>\n",
       "      <td>Australia</td>\n",
       "      <td>2011</td>\n",
       "      <td>403705.528314</td>\n",
       "      <td>CO2</td>\n",
       "      <td>4.640204e+08</td>\n",
       "    </tr>\n",
       "    <tr>\n",
       "      <th>4</th>\n",
       "      <td>Australia</td>\n",
       "      <td>2010</td>\n",
       "      <td>406200.993184</td>\n",
       "      <td>CO2</td>\n",
       "      <td>4.640204e+08</td>\n",
       "    </tr>\n",
       "  </tbody>\n",
       "</table>\n",
       "</div>"
      ],
      "text/plain": [
       "  country_or_area  year          value category  Total Emitted Gas\n",
       "0  Australia       2014  393126.946994  CO2      4.640204e+08     \n",
       "1  Australia       2013  396913.936530  CO2      4.640204e+08     \n",
       "2  Australia       2012  406462.847704  CO2      4.640204e+08     \n",
       "3  Australia       2011  403705.528314  CO2      4.640204e+08     \n",
       "4  Australia       2010  406200.993184  CO2      4.640204e+08     "
      ]
     },
     "execution_count": 33,
     "metadata": {},
     "output_type": "execute_result"
    }
   ],
   "source": [
    "replaced_emission.head()"
   ]
  },
  {
   "cell_type": "code",
   "execution_count": 34,
   "metadata": {},
   "outputs": [],
   "source": [
    "Australia_data = replaced_emission[replaced_emission[\"country_or_area\"]==\"Australia\"].groupby([\"category\",\"year\"],as_index = False)"
   ]
  },
  {
   "cell_type": "code",
   "execution_count": 35,
   "metadata": {},
   "outputs": [],
   "source": [
    "data_div = pd.pivot_table(replaced_emission,values=\"value\",index = [\"country_or_area\", \"year\"],columns = [\"category\"])"
   ]
  },
  {
   "cell_type": "code",
   "execution_count": 36,
   "metadata": {},
   "outputs": [
    {
     "data": {
      "text/html": [
       "<div>\n",
       "<style scoped>\n",
       "    .dataframe tbody tr th:only-of-type {\n",
       "        vertical-align: middle;\n",
       "    }\n",
       "\n",
       "    .dataframe tbody tr th {\n",
       "        vertical-align: top;\n",
       "    }\n",
       "\n",
       "    .dataframe thead th {\n",
       "        text-align: right;\n",
       "    }\n",
       "</style>\n",
       "<table border=\"1\" class=\"dataframe\">\n",
       "  <thead>\n",
       "    <tr style=\"text-align: right;\">\n",
       "      <th></th>\n",
       "      <th>category</th>\n",
       "      <th>CH4</th>\n",
       "      <th>CO2</th>\n",
       "      <th>GHG</th>\n",
       "      <th>GHG(Indirect CO2)</th>\n",
       "      <th>HFC</th>\n",
       "      <th>HFC+PFC</th>\n",
       "      <th>N2O</th>\n",
       "      <th>NF3</th>\n",
       "      <th>PFC</th>\n",
       "      <th>SF6</th>\n",
       "    </tr>\n",
       "    <tr>\n",
       "      <th>country_or_area</th>\n",
       "      <th>year</th>\n",
       "      <th></th>\n",
       "      <th></th>\n",
       "      <th></th>\n",
       "      <th></th>\n",
       "      <th></th>\n",
       "      <th></th>\n",
       "      <th></th>\n",
       "      <th></th>\n",
       "      <th></th>\n",
       "      <th></th>\n",
       "    </tr>\n",
       "  </thead>\n",
       "  <tbody>\n",
       "    <tr>\n",
       "      <th rowspan=\"10\" valign=\"top\">Australia</th>\n",
       "      <th>1990</th>\n",
       "      <td>118768.837813</td>\n",
       "      <td>278265.898941</td>\n",
       "      <td>418623.049563</td>\n",
       "      <td>418623.049563</td>\n",
       "      <td>1424.683520</td>\n",
       "      <td>NaN</td>\n",
       "      <td>15345.597858</td>\n",
       "      <td>NaN</td>\n",
       "      <td>4607.012919</td>\n",
       "      <td>211.018511</td>\n",
       "    </tr>\n",
       "    <tr>\n",
       "      <th>1991</th>\n",
       "      <td>117744.641814</td>\n",
       "      <td>279741.639012</td>\n",
       "      <td>418674.057494</td>\n",
       "      <td>418674.057494</td>\n",
       "      <td>1424.683520</td>\n",
       "      <td>NaN</td>\n",
       "      <td>14923.405021</td>\n",
       "      <td>NaN</td>\n",
       "      <td>4610.743294</td>\n",
       "      <td>228.944834</td>\n",
       "    </tr>\n",
       "    <tr>\n",
       "      <th>1992</th>\n",
       "      <td>116837.506726</td>\n",
       "      <td>284766.092718</td>\n",
       "      <td>423080.108191</td>\n",
       "      <td>423080.108191</td>\n",
       "      <td>1333.184000</td>\n",
       "      <td>NaN</td>\n",
       "      <td>15293.183355</td>\n",
       "      <td>NaN</td>\n",
       "      <td>4603.282544</td>\n",
       "      <td>246.858849</td>\n",
       "    </tr>\n",
       "    <tr>\n",
       "      <th>1993</th>\n",
       "      <td>113837.511923</td>\n",
       "      <td>289142.267681</td>\n",
       "      <td>423764.932564</td>\n",
       "      <td>423764.932564</td>\n",
       "      <td>1829.872000</td>\n",
       "      <td>NaN</td>\n",
       "      <td>15374.993428</td>\n",
       "      <td>NaN</td>\n",
       "      <td>3315.528376</td>\n",
       "      <td>264.759156</td>\n",
       "    </tr>\n",
       "    <tr>\n",
       "      <th>1994</th>\n",
       "      <td>110997.410185</td>\n",
       "      <td>293830.709141</td>\n",
       "      <td>424092.959373</td>\n",
       "      <td>424092.959373</td>\n",
       "      <td>1027.343549</td>\n",
       "      <td>NaN</td>\n",
       "      <td>15790.426852</td>\n",
       "      <td>NaN</td>\n",
       "      <td>2164.428749</td>\n",
       "      <td>282.640896</td>\n",
       "    </tr>\n",
       "    <tr>\n",
       "      <th>1995</th>\n",
       "      <td>109900.735111</td>\n",
       "      <td>305162.543549</td>\n",
       "      <td>433478.650826</td>\n",
       "      <td>433478.650826</td>\n",
       "      <td>1004.032111</td>\n",
       "      <td>NaN</td>\n",
       "      <td>15578.196408</td>\n",
       "      <td>NaN</td>\n",
       "      <td>1530.835665</td>\n",
       "      <td>302.307983</td>\n",
       "    </tr>\n",
       "    <tr>\n",
       "      <th>1996</th>\n",
       "      <td>109185.337720</td>\n",
       "      <td>311914.819824</td>\n",
       "      <td>439803.962228</td>\n",
       "      <td>439803.962228</td>\n",
       "      <td>414.170638</td>\n",
       "      <td>NaN</td>\n",
       "      <td>16609.586778</td>\n",
       "      <td>NaN</td>\n",
       "      <td>1410.395058</td>\n",
       "      <td>269.652210</td>\n",
       "    </tr>\n",
       "    <tr>\n",
       "      <th>1997</th>\n",
       "      <td>111898.854749</td>\n",
       "      <td>320439.116819</td>\n",
       "      <td>451721.717815</td>\n",
       "      <td>451721.717815</td>\n",
       "      <td>705.228318</td>\n",
       "      <td>NaN</td>\n",
       "      <td>17201.890783</td>\n",
       "      <td>NaN</td>\n",
       "      <td>1228.150898</td>\n",
       "      <td>248.476248</td>\n",
       "    </tr>\n",
       "    <tr>\n",
       "      <th>1998</th>\n",
       "      <td>111427.929806</td>\n",
       "      <td>334328.142647</td>\n",
       "      <td>466382.112472</td>\n",
       "      <td>466382.112472</td>\n",
       "      <td>998.289580</td>\n",
       "      <td>NaN</td>\n",
       "      <td>17743.913106</td>\n",
       "      <td>NaN</td>\n",
       "      <td>1660.518820</td>\n",
       "      <td>223.318513</td>\n",
       "    </tr>\n",
       "    <tr>\n",
       "      <th>1999</th>\n",
       "      <td>107889.224971</td>\n",
       "      <td>343713.906948</td>\n",
       "      <td>472245.990778</td>\n",
       "      <td>472245.990778</td>\n",
       "      <td>1374.293110</td>\n",
       "      <td>NaN</td>\n",
       "      <td>17933.439790</td>\n",
       "      <td>NaN</td>\n",
       "      <td>1139.058757</td>\n",
       "      <td>196.067201</td>\n",
       "    </tr>\n",
       "  </tbody>\n",
       "</table>\n",
       "</div>"
      ],
      "text/plain": [
       "category                        CH4            CO2            GHG  \\\n",
       "country_or_area year                                                \n",
       "Australia       1990  118768.837813  278265.898941  418623.049563   \n",
       "                1991  117744.641814  279741.639012  418674.057494   \n",
       "                1992  116837.506726  284766.092718  423080.108191   \n",
       "                1993  113837.511923  289142.267681  423764.932564   \n",
       "                1994  110997.410185  293830.709141  424092.959373   \n",
       "                1995  109900.735111  305162.543549  433478.650826   \n",
       "                1996  109185.337720  311914.819824  439803.962228   \n",
       "                1997  111898.854749  320439.116819  451721.717815   \n",
       "                1998  111427.929806  334328.142647  466382.112472   \n",
       "                1999  107889.224971  343713.906948  472245.990778   \n",
       "\n",
       "category              GHG(Indirect CO2)          HFC  HFC+PFC           N2O  \\\n",
       "country_or_area year                                                          \n",
       "Australia       1990  418623.049563      1424.683520 NaN       15345.597858   \n",
       "                1991  418674.057494      1424.683520 NaN       14923.405021   \n",
       "                1992  423080.108191      1333.184000 NaN       15293.183355   \n",
       "                1993  423764.932564      1829.872000 NaN       15374.993428   \n",
       "                1994  424092.959373      1027.343549 NaN       15790.426852   \n",
       "                1995  433478.650826      1004.032111 NaN       15578.196408   \n",
       "                1996  439803.962228      414.170638  NaN       16609.586778   \n",
       "                1997  451721.717815      705.228318  NaN       17201.890783   \n",
       "                1998  466382.112472      998.289580  NaN       17743.913106   \n",
       "                1999  472245.990778      1374.293110 NaN       17933.439790   \n",
       "\n",
       "category              NF3          PFC         SF6  \n",
       "country_or_area year                                \n",
       "Australia       1990 NaN   4607.012919  211.018511  \n",
       "                1991 NaN   4610.743294  228.944834  \n",
       "                1992 NaN   4603.282544  246.858849  \n",
       "                1993 NaN   3315.528376  264.759156  \n",
       "                1994 NaN   2164.428749  282.640896  \n",
       "                1995 NaN   1530.835665  302.307983  \n",
       "                1996 NaN   1410.395058  269.652210  \n",
       "                1997 NaN   1228.150898  248.476248  \n",
       "                1998 NaN   1660.518820  223.318513  \n",
       "                1999 NaN   1139.058757  196.067201  "
      ]
     },
     "execution_count": 36,
     "metadata": {},
     "output_type": "execute_result"
    }
   ],
   "source": [
    "data_div.head(10)"
   ]
  },
  {
   "cell_type": "code",
   "execution_count": 37,
   "metadata": {},
   "outputs": [
    {
     "data": {
      "text/plain": [
       "<matplotlib.axes._subplots.AxesSubplot at 0x24f9fb77710>"
      ]
     },
     "execution_count": 37,
     "metadata": {},
     "output_type": "execute_result"
    },
    {
     "data": {
      "image/png": "[encoded data removed]",
      "text/plain": [
       "<Figure size 1080x720 with 1 Axes>"
      ]
     },
     "metadata": {
      "needs_background": "light"
     },
     "output_type": "display_data"
    }
   ],
   "source": [
    "data_div.plot()"
   ]
  },
  {
   "cell_type": "markdown",
   "metadata": {},
   "source": [
    "This doesn't depict the correct info and looks like a mess"
   ]
  },
  {
   "cell_type": "markdown",
   "metadata": {},
   "source": [
    "Next Notebook - **PLOTTING DATA COUNTRWISE**"
   ]
  }
 ],
 "metadata": {
  "kernelspec": {
   "display_name": "Python 3",
   "language": "python",
   "name": "python3"
  },
  "language_info": {
   "codemirror_mode": {
    "name": "ipython",
    "version": 3
   },
   "file_extension": ".py",
   "mimetype": "text/x-python",
   "name": "python",
   "nbconvert_exporter": "python",
   "pygments_lexer": "ipython3",
   "version": "3.7.3"
  }
 },
 "nbformat": 4,
 "nbformat_minor": 2
}
